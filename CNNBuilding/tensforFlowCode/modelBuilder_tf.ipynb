{
 "cells": [
  {
   "cell_type": "code",
   "execution_count": 9,
   "metadata": {},
   "outputs": [],
   "source": [
    "#Preprocessing Images for tensorflow CNN model\n",
    "import os\n",
    "import numpy as np\n",
    "import tensorflow as tf\n",
    "\n",
    "from sklearn.model_selection import train_test_split\n",
    "\n",
    "#Define dimensions for images\n",
    "img_height = 227\n",
    "img_width = 227\n",
    "batch_size = 50\n",
    "\n",
    "img_dir = \"C:\\\\Coding\\\\Github\\\\Project_3DPrintingApp\\\\CNNBuilding\\\\images_combined\"\n",
    "\n",
    "# Get list of all image file paths\n",
    "all_image_paths = [os.path.join(img_dir, fname) for fname in os.listdir(img_dir)]\n",
    "\n",
    "# Get list of all image labels (assuming filenames are label_image_number.jpg)\n",
    "all_image_labels = [fname.split('_')[0] for fname in os.listdir(img_dir)]"
   ]
  },
  {
   "cell_type": "code",
   "execution_count": 8,
   "metadata": {},
   "outputs": [],
   "source": [
    "# Split data into training, validation, and test sets\n",
    "train_files, test_files, train_labels, test_labels = train_test_split(all_image_paths, all_image_labels, test_size=0.2, random_state=42)\n",
    "train_files, val_files, train_labels, val_labels = train_test_split(train_files, train_labels, test_size=0.2, random_state=42)\n",
    "\n",
    "# Create datasets\n",
    "train_ds = tf.data.Dataset.from_tensor_slices((train_files, train_labels))\n",
    "val_ds = tf.data.Dataset.from_tensor_slices((val_files, val_labels))\n",
    "test_ds = tf.data.Dataset.from_tensor_slices((test_files, test_labels))"
   ]
  },
  {
   "cell_type": "code",
   "execution_count": 10,
   "metadata": {},
   "outputs": [],
   "source": [
    "# Function to preprocess images\n",
    "def preprocess_image(image_path, label):\n",
    "    img = tf.io.read_file(image_path)\n",
    "    img = tf.image.decode_jpeg(img, channels=3)\n",
    "    img = tf.image.resize(img, [img_height, img_width])\n",
    "    img = img / 255.0  # Normalize pixel values to [0, 1]\n",
    "    return img, label"
   ]
  },
  {
   "cell_type": "code",
   "execution_count": 11,
   "metadata": {},
   "outputs": [],
   "source": [
    "# Apply preprocessing and batching\n",
    "train_ds = train_ds.map(preprocess_image).batch(batch_size)\n",
    "val_ds = val_ds.map(preprocess_image).batch(batch_size)\n",
    "test_ds = test_ds.map(preprocess_image).batch(batch_size)"
   ]
  },
  {
   "cell_type": "code",
   "execution_count": 13,
   "metadata": {},
   "outputs": [],
   "source": [
    "#Defining tensor flow model\n",
    "class TensorFlowModel(tf.keras.Model):\n",
    "    def __init__(self, num_classes=4):\n",
    "        super(TensorFlowModel, self).__init__()\n",
    "        self.layer1 = tf.keras.Sequential([\n",
    "            tf.keras.layers.Conv2D(96, kernel_size=11, strides=4, padding='valid'),\n",
    "            tf.keras.layers.BatchNormalization(),\n",
    "            tf.keras.layers.ReLU(),\n",
    "            tf.keras.layers.MaxPooling2D(pool_size=3, strides=2)\n",
    "        ])\n",
    "        self.layer2 = tf.keras.Sequential([\n",
    "            tf.keras.layers.Conv2D(256, kernel_size=5, strides=1, padding='same'),\n",
    "            tf.keras.layers.BatchNormalization(),\n",
    "            tf.keras.layers.ReLU(),\n",
    "            tf.keras.layers.MaxPooling2D(pool_size=3, strides=2)\n",
    "        ])\n",
    "        self.layer3 = tf.keras.Sequential([\n",
    "            tf.keras.layers.Conv2D(384, kernel_size=3, strides=1, padding='same'),\n",
    "            tf.keras.layers.BatchNormalization(),\n",
    "            tf.keras.layers.ReLU()\n",
    "        ])\n",
    "        self.layer4 = tf.keras.Sequential([\n",
    "            tf.keras.layers.Conv2D(384, kernel_size=3, strides=1, padding='same'),\n",
    "            tf.keras.layers.BatchNormalization(),\n",
    "            tf.keras.layers.ReLU()\n",
    "        ])\n",
    "        self.layer5 = tf.keras.Sequential([\n",
    "            tf.keras.layers.Conv2D(256, kernel_size=3, strides=1, padding='same'),\n",
    "            tf.keras.layers.BatchNormalization(),\n",
    "            tf.keras.layers.ReLU(),\n",
    "            tf.keras.layers.MaxPooling2D(pool_size=3, strides=2)\n",
    "        ])\n",
    "        self.flatten = tf.keras.layers.Flatten()\n",
    "        self.fc = tf.keras.Sequential([\n",
    "            tf.keras.layers.Dropout(0.5),\n",
    "            tf.keras.layers.Dense(4096),\n",
    "            tf.keras.layers.ReLU()\n",
    "        ])\n",
    "        self.fc1 = tf.keras.Sequential([\n",
    "            tf.keras.layers.Dropout(0.5),\n",
    "            tf.keras.layers.Dense(4096),\n",
    "            tf.keras.layers.ReLU()\n",
    "        ])\n",
    "        self.fc2 = tf.keras.layers.Dense(num_classes)\n",
    "\n",
    "    def call(self, x):\n",
    "        out = self.layer1(x)\n",
    "        out = self.layer2(out)\n",
    "        out = self.layer3(out)\n",
    "        out = self.layer4(out)\n",
    "        out = self.layer5(out)\n",
    "        out = self.flatten(out)\n",
    "        out = self.fc(out)\n",
    "        out = self.fc1(out)\n",
    "        out = self.fc2(out)\n",
    "        return out"
   ]
  },
  {
   "cell_type": "code",
   "execution_count": 15,
   "metadata": {},
   "outputs": [
    {
     "name": "stdout",
     "output_type": "stream",
     "text": [
      "[name: \"/device:CPU:0\"\n",
      "device_type: \"CPU\"\n",
      "memory_limit: 268435456\n",
      "locality {\n",
      "}\n",
      "incarnation: 9256515647849185323\n",
      "xla_global_id: -1\n",
      "]\n"
     ]
    }
   ],
   "source": [
    "model = TensorFlowModel()\n"
   ]
  }
 ],
 "metadata": {
  "kernelspec": {
   "display_name": "Python 3",
   "language": "python",
   "name": "python3"
  },
  "language_info": {
   "codemirror_mode": {
    "name": "ipython",
    "version": 3
   },
   "file_extension": ".py",
   "mimetype": "text/x-python",
   "name": "python",
   "nbconvert_exporter": "python",
   "pygments_lexer": "ipython3",
   "version": "3.11.8"
  }
 },
 "nbformat": 4,
 "nbformat_minor": 2
}
